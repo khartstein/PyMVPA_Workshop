{
 "metadata": {
  "name": "",
  "signature": "sha256:95d53b50a4deb03fed81ec0234c36826b7106377666cf10bfc857ce88fc3bd56"
 },
 "nbformat": 3,
 "nbformat_minor": 0,
 "worksheets": [
  {
   "cells": [
    {
     "cell_type": "heading",
     "level": 1,
     "metadata": {},
     "source": [
      "Classifiers -- All Alike, Yet Different"
     ]
    },
    {
     "cell_type": "markdown",
     "metadata": {},
     "source": [
      "\n",
      "\n",
      "In this chapter we will continue our work from *chap_tutorial_mappers* in\n",
      "order to replicate the study of *Haxby et al. (2001)*. For this\n",
      "tutorial there is a little helper function to yield the dataset we generated\n",
      "manually before:"
     ]
    },
    {
     "cell_type": "code",
     "collapsed": false,
     "input": [
      "from mvpa2.tutorial_suite import *\n",
      "ds = get_haxby2001_data()"
     ],
     "language": "python",
     "metadata": {},
     "outputs": [],
     "prompt_number": 1
    },
    {
     "cell_type": "markdown",
     "metadata": {},
     "source": [
      "\n",
      "\n",
      "The original study employed a so-called 1-nearest-neighbor classifier, using\n",
      "correlation as a distance measure. In PyMVPA this type of classifier is\n",
      "provided by the [kNN](http://pymvpa.org/generated/mvpa2.clfs.knn.kNN.html#mvpa2-clfs-knn-knn) class, that makes it possible to specify\n",
      "the desired parameters."
     ]
    },
    {
     "cell_type": "code",
     "collapsed": false,
     "input": [
      "clf = kNN(k=1, dfx=one_minus_correlation, voting='majority')"
     ],
     "language": "python",
     "metadata": {},
     "outputs": [],
     "prompt_number": 39
    },
    {
     "cell_type": "markdown",
     "metadata": {},
     "source": [
      "\n",
      "\n",
      "A k-Nearest-Neighbor classifier performs classification based on the similarity\n",
      "of a sample with respect to each sample in a [training dataset](http://pymvpa.org/glossary.html#term-training-dataset).  The\n",
      "value of `k` specifies the number of neighbors to derive a prediction,\n",
      "`dfx` sets the distance measure that determines the neighbors, and `voting`\n",
      "selects a strategy to choose a single label from the set of targets assigned to\n",
      "these neighbors."
     ]
    },
    {
     "cell_type": "markdown",
     "metadata": {},
     "source": [
      "- - -\n",
      "**Exercise**\n",
      "\n",
      "\n",
      "\n",
      "Access the built-in help to inspect the `kNN` class regarding additional\n",
      "configuration options."
     ]
    },
    {
     "cell_type": "code",
     "collapsed": false,
     "input": [
      "kNN?"
     ],
     "language": "python",
     "metadata": {},
     "outputs": [],
     "prompt_number": 3
    },
    {
     "cell_type": "markdown",
     "metadata": {},
     "source": [
      "- - -\n",
      "\n",
      "\n",
      "Now that we have a classifier instance, it can be easily trained by passing the\n",
      "dataset to its `train()` method."
     ]
    },
    {
     "cell_type": "code",
     "collapsed": false,
     "input": [
      "clf.train(ds)"
     ],
     "language": "python",
     "metadata": {},
     "outputs": [],
     "prompt_number": 40
    },
    {
     "cell_type": "markdown",
     "metadata": {},
     "source": [
      "\n",
      "\n",
      "A trained classifier can subsequently be used to perform classification of\n",
      "unlabeled samples. The classification performance can be assessed by comparing\n",
      "these predictions to the target labels."
     ]
    },
    {
     "cell_type": "code",
     "collapsed": false,
     "input": [
      "predictions = clf.predict(ds.samples)\n",
      "np.mean(predictions == ds.sa.targets)"
     ],
     "language": "python",
     "metadata": {},
     "outputs": [
      {
       "metadata": {},
       "output_type": "pyout",
       "prompt_number": 41,
       "text": [
        "1.0"
       ]
      }
     ],
     "prompt_number": 41
    },
    {
     "cell_type": "markdown",
     "metadata": {},
     "source": [
      "\n",
      "\n",
      "We see that the classifier performs remarkably well on our dataset -- it\n",
      "doesn't make even a single prediction error. However, most of the time we would\n",
      "not be particularly interested in the prediction accuracy of a classifier on the\n",
      "same dataset that it got trained with."
     ]
    },
    {
     "cell_type": "markdown",
     "metadata": {},
     "source": [
      "- - -\n",
      "**Exercise**\n",
      "\n",
      "\n",
      "\n",
      "Think about why this particular classifier will always perform error-free\n",
      "classification of the training data -- regardless of the actual dataset\n",
      "content. If the reason is not immediately obvious, take a look at chapter\n",
      "13.3 in \n",
      "*The Elements of Statistical Learning*. Investigate how\n",
      "the accuracy varies with different values of `k`. Why is that?"
     ]
    },
    {
     "cell_type": "code",
     "collapsed": false,
     "input": [
      "# you can use this cell for this exercise"
     ],
     "language": "python",
     "metadata": {},
     "outputs": []
    },
    {
     "cell_type": "markdown",
     "metadata": {},
     "source": [
      "- - -\n",
      "\n",
      "\n",
      "Instead, we are interested in the generalizability of the classifier on new,\n",
      "unseen data. This would allow us, in principle, to use it to assign labels to\n",
      "unlabeled data. Because we only have a single dataset, it needs to be split\n",
      "into (at least) two parts to achieve this. In the original study, Haxby and\n",
      "colleagues split the dataset into patterns of activations from odd versus\n",
      "even-numbered runs. Our dataset has this information in the `runtype` sample\n",
      "attribute:"
     ]
    },
    {
     "cell_type": "code",
     "collapsed": false,
     "input": [
      "print ds.sa.runtype"
     ],
     "language": "python",
     "metadata": {},
     "outputs": [
      {
       "output_type": "stream",
       "stream": "stdout",
       "text": [
        "['even' 'even' 'even' 'even' 'even' 'even' 'even' 'even' 'odd' 'odd' 'odd'\n",
        " 'odd' 'odd' 'odd' 'odd' 'odd']\n"
       ]
      }
     ],
     "prompt_number": 15
    },
    {
     "cell_type": "markdown",
     "metadata": {},
     "source": [
      "\n",
      "\n",
      "Using this attribute we can now easily split the dataset in half. PyMVPA\n",
      "datasets can be sliced in similar ways as [NumPy](http://numpy.scipy.org)'s `ndarray`. The following\n",
      "calls select the subset of samples (i.e. rows in the datasets) where the value\n",
      "of the `runtype` attribute is either the string 'even' or 'odd'."
     ]
    },
    {
     "cell_type": "code",
     "collapsed": false,
     "input": [
      "ds_split1 = ds[ds.sa.runtype == 'odd']\n",
      "len(ds_split1)"
     ],
     "language": "python",
     "metadata": {},
     "outputs": [
      {
       "metadata": {},
       "output_type": "pyout",
       "prompt_number": 16,
       "text": [
        "8"
       ]
      }
     ],
     "prompt_number": 16
    },
    {
     "cell_type": "code",
     "collapsed": false,
     "input": [
      "ds_split2 = ds[ds.sa.runtype == 'even']\n",
      "len(ds_split2)"
     ],
     "language": "python",
     "metadata": {},
     "outputs": [
      {
       "metadata": {},
       "output_type": "pyout",
       "prompt_number": 17,
       "text": [
        "8"
       ]
      }
     ],
     "prompt_number": 17
    },
    {
     "cell_type": "markdown",
     "metadata": {},
     "source": [
      "\n",
      "\n",
      "Now we could repeat the steps above: call `train()` with one dataset half\n",
      "and `predict()` with the other, and compute the prediction accuracy\n",
      "manually.  However, a more convenient way is to let the classifier do this for\n",
      "us.  Many objects in PyMVPA support a post-processing step that we can use to\n",
      "compute something from the actual results. The example below computes the\n",
      "*mismatch error* between the classifier predictions and the *target* values\n",
      "stored in our dataset. To make this work, we do not call the classifier's\n",
      "`predict()` method anymore, but \"call\" the classifier directly with the test\n",
      "dataset. This is a very common usage pattern in PyMVPA that we shall see a lot\n",
      "over the course of this tutorial.  Again, please note that we compute an error\n",
      "now, hence lower values represent more accurate classification."
     ]
    },
    {
     "cell_type": "code",
     "collapsed": false,
     "input": [
      "clf.set_postproc(BinaryFxNode(mean_mismatch_error, 'targets'))\n",
      "clf.train(ds_split2)\n",
      "err = clf(ds_split1)\n",
      "print np.asscalar(err)"
     ],
     "language": "python",
     "metadata": {},
     "outputs": [
      {
       "output_type": "stream",
       "stream": "stdout",
       "text": [
        "0.125\n"
       ]
      }
     ],
     "prompt_number": 18
    },
    {
     "cell_type": "markdown",
     "metadata": {},
     "source": [
      "\n",
      "\n",
      "In this case, our choice of which half of the dataset is used for training and\n",
      "which half for testing was completely arbitrary, hence we could also estimate\n",
      "the transfer error after swapping the roles:"
     ]
    },
    {
     "cell_type": "code",
     "collapsed": false,
     "input": [
      "clf.train(ds_split1)\n",
      "err = clf(ds_split2)\n",
      "print np.asscalar(err)"
     ],
     "language": "python",
     "metadata": {},
     "outputs": [
      {
       "output_type": "stream",
       "stream": "stdout",
       "text": [
        "0.0\n"
       ]
      }
     ],
     "prompt_number": 19
    },
    {
     "cell_type": "markdown",
     "metadata": {},
     "source": [
      "\n",
      "\n",
      "We see that on average the classifier error is really low, and we achieve an\n",
      "accuracy level comparable to the results reported in the original study.\n",
      ".. _sec_tutorial_crossvalidation:"
     ]
    },
    {
     "cell_type": "heading",
     "level": 2,
     "metadata": {},
     "source": [
      "Cross-validation"
     ]
    },
    {
     "cell_type": "markdown",
     "metadata": {},
     "source": [
      "\n",
      "\n",
      "What we have just done was to manually split the dataset into combinations of\n",
      "training and testing datasets, given a specific sample attribute -- in this\n",
      "case whether a *pattern of activation* or [sample](http://pymvpa.org/glossary.html#term-sample) came from *even* or\n",
      "*odd* runs.  We ran the classification analysis on each split to estimate the\n",
      "performance of the classifier model. In general, this approach is called\n",
      "[cross-validation](http://pymvpa.org/glossary.html#term-cross-validation), and involves splitting the dataset into multiple\n",
      "pairs of subsets, choosing sample groups by some criterion, and estimating the\n",
      "classifier performance by training it on the first dataset in a split and\n",
      "testing against the second dataset from the same split.\n",
      "\n",
      "PyMVPA provides a way to allow complete cross-validation procedures to run\n",
      "fully automatic, without the need for manual splitting of a dataset. Using the\n",
      "[CrossValidation](http://pymvpa.org/generated/mvpa2.measures.base.CrossValidation.html#mvpa2-measures-base-crossvalidation) class, a cross-validation is set up by\n",
      "specifying what measure should be computed on each dataset split and how\n",
      "dataset splits should be generated. The measure that is usually computed is the\n",
      "transfer error that we already looked at in the previous section. The second\n",
      "element, a [generator](http://pymvpa.org/glossary.html#term-generator) for datasets, is another very common tool in\n",
      "PyMVPA. The following example uses\n",
      "[HalfPartitioner](http://pymvpa.org/generated/mvpa2.generators.partition.HalfPartitioner.html#mvpa2-generators-partition-halfpartitioner), a generator that, when called\n",
      "with a dataset, marks all samples regarding their association with the first or\n",
      "second half of the dataset. This happens based on the values of a specified\n",
      "sample attribute -- in this case `runtype` -- much like the manual dataset\n",
      "splitting that we have performed earlier.\n",
      "[HalfPartitioner](http://pymvpa.org/generated/mvpa2.generators.partition.HalfPartitioner.html#mvpa2-generators-partition-halfpartitioner) will make sure to subsequently\n",
      "assign samples to both halves, i.e. samples from the first half in the first\n",
      "generated dataset will be in the second half of the second generated dataset.\n",
      "With these two techniques we can replicate our manual cross-validation easily\n",
      "-- reusing our existing classifier, but without the custom post-processing\n",
      "step."
     ]
    },
    {
     "cell_type": "code",
     "collapsed": false,
     "input": [
      "clf.set_postproc(None)\n",
      "hpart = HalfPartitioner(attr='runtype')\n",
      "cv = CrossValidation(clf, hpart)"
     ],
     "language": "python",
     "metadata": {},
     "outputs": [],
     "prompt_number": 70
    },
    {
     "cell_type": "markdown",
     "metadata": {},
     "source": [
      "- - -\n",
      "**Exercise**\n",
      "\n",
      "\n",
      "\n",
      "Try calling the `hpart` object with our dataset. What happens? Now try\n",
      "passing the dataset to its `generate()` methods. What happens now?\n",
      "Make yourself familiar with the concept of a Python generator. Investigate\n",
      "what the code snippet `list(xrange(5))` does, and try to adapt it to the\n",
      "`HalfPartitioner`."
     ]
    },
    {
     "cell_type": "code",
     "collapsed": false,
     "input": [
      "list(hpart.generate(ds))[1].sa.partitions"
     ],
     "language": "python",
     "metadata": {},
     "outputs": [
      {
       "metadata": {},
       "output_type": "pyout",
       "prompt_number": 77,
       "text": [
        "array([1, 1, 1, 1, 1, 1, 1, 1, 2, 2, 2, 2, 2, 2, 2, 2])"
       ]
      }
     ],
     "prompt_number": 77
    },
    {
     "cell_type": "markdown",
     "metadata": {},
     "source": [
      "- - -\n",
      "\n",
      "\n",
      "Once the `cv` object is created, it can be called with a dataset, just like\n",
      "we did with the classifier before. It will internally perform all the dataset\n",
      "partitioning, split each generated dataset into training and testing sets\n",
      "(based on the partitions), and train and test the classifier repeatedly.\n",
      "Finally, it will return the results of all cross-validation folds."
     ]
    },
    {
     "cell_type": "code",
     "collapsed": false,
     "input": [
      "cv_results = cv(ds)\n",
      "np.mean(cv_results)"
     ],
     "language": "python",
     "metadata": {},
     "outputs": [
      {
       "metadata": {},
       "output_type": "pyout",
       "prompt_number": 71,
       "text": [
        "0.0625"
       ]
      }
     ],
     "prompt_number": 71
    },
    {
     "cell_type": "markdown",
     "metadata": {},
     "source": [
      "\n",
      "\n",
      "Actually, the cross-validation results are returned as another dataset that has\n",
      "one sample per fold and a single feature with the computed transfer-error per\n",
      "fold."
     ]
    },
    {
     "cell_type": "code",
     "collapsed": false,
     "input": [
      "len(cv_results)"
     ],
     "language": "python",
     "metadata": {},
     "outputs": [
      {
       "metadata": {},
       "output_type": "pyout",
       "prompt_number": 61,
       "text": [
        "2"
       ]
      }
     ],
     "prompt_number": 61
    },
    {
     "cell_type": "code",
     "collapsed": false,
     "input": [
      "cv_results.samples"
     ],
     "language": "python",
     "metadata": {},
     "outputs": [
      {
       "metadata": {},
       "output_type": "pyout",
       "prompt_number": 62,
       "text": [
        "array([[ 0.   ],\n",
        "       [ 0.125]])"
       ]
      }
     ],
     "prompt_number": 62
    },
    {
     "cell_type": "heading",
     "level": 2,
     "metadata": {},
     "source": [
      "Any classifier, really"
     ]
    },
    {
     "cell_type": "markdown",
     "metadata": {},
     "source": [
      "\n",
      "\n",
      "A short summary of all code for the analysis we developed so far is this:"
     ]
    },
    {
     "cell_type": "code",
     "collapsed": false,
     "input": [
      "clf = kNN(k=1, dfx=one_minus_correlation, voting='majority')\n",
      "cvte = CrossValidation(clf, HalfPartitioner(attr='runtype'))\n",
      "cv_results = cvte(ds)\n",
      "np.mean(cv_results)"
     ],
     "language": "python",
     "metadata": {},
     "outputs": [
      {
       "metadata": {},
       "output_type": "pyout",
       "prompt_number": 78,
       "text": [
        "0.0625"
       ]
      }
     ],
     "prompt_number": 78
    },
    {
     "cell_type": "markdown",
     "metadata": {},
     "source": [
      "\n",
      "\n",
      "Looking at this little code snippet we can nicely see the logical parts of\n",
      "a cross-validated classification analysis.\n",
      "\n",
      "1. Load the data\n",
      "\n",
      "2. Choose a classifier\n",
      "\n",
      "3. Set up an error function\n",
      "\n",
      "4. Evaluate the error in a cross-validation procedure\n",
      "\n",
      "5. Inspect results\n",
      "\n",
      "Our previous choice of the classifier was guided by the intention to replicate\n",
      "*Haxby et al. (2001)*, but what if we want to try a different\n",
      "algorithm? In this case another nice feature of PyMVPA comes into play. All\n",
      "classifiers implement a common interface that makes them easily interchangeable\n",
      "without the need to adapt any other part of the analysis code.  If, for\n",
      "example, we want to try the popular [None](http://pymvpa.org/generated/support vector machine.html#support vector machine) (SVM) on our example dataset it looks like this:"
     ]
    },
    {
     "cell_type": "code",
     "collapsed": false,
     "input": [
      "clf = LinearCSVMC()\n",
      "cvte = CrossValidation(clf, HalfPartitioner(attr='runtype'))\n",
      "cv_results = cvte(ds)\n",
      "np.mean(cv_results)"
     ],
     "language": "python",
     "metadata": {},
     "outputs": [
      {
       "metadata": {},
       "output_type": "pyout",
       "prompt_number": 79,
       "text": [
        "0.1875"
       ]
      }
     ],
     "prompt_number": 79
    },
    {
     "cell_type": "markdown",
     "metadata": {},
     "source": [
      "\n",
      "\n",
      "Instead of k-nearest-neighbor, we create a linear SVM classifier,\n",
      "internally using the popular LIBSVM library (note that PyMVPA provides\n",
      "additional SVM implementations). The rest of the code remains identical.\n",
      "SVM with its default settings seems to perform slightly worse than the\n",
      "simple kNN-classifier. We'll get back to the classifiers shortly. Let's\n",
      "first look at the remaining part of this analysis.\n",
      "\n",
      "We already know that [CrossValidation](http://pymvpa.org/generated/mvpa2.measures.base.CrossValidation.html#mvpa2-measures-base-crossvalidation) can be used to\n",
      "compute errors. So far we have only used the mean number of mismatches between\n",
      "actual targets and classifier predictions as the error function (which is the\n",
      "default).  However, PyMVPA offers a number of alternative functions in the\n",
      "[None](http://pymvpa.org/generated/mvpa2.misc.errorfx.html#mvpa2-misc-errorfx) module, but it is also trivial to specify custom\n",
      "ones.  For example, if we do not want to have error reported, but instead\n",
      "accuracy, we can do that:"
     ]
    },
    {
     "cell_type": "code",
     "collapsed": false,
     "input": [
      "cvte = CrossValidation(clf, HalfPartitioner(attr='runtype'),\n",
      "                       errorfx=lambda p, t: np.mean(p == t))\n",
      "cv_results = cvte(ds)\n",
      "np.mean(cv_results)"
     ],
     "language": "python",
     "metadata": {},
     "outputs": [
      {
       "metadata": {},
       "output_type": "pyout",
       "prompt_number": 80,
       "text": [
        "0.8125"
       ]
      }
     ],
     "prompt_number": 80
    },
    {
     "cell_type": "markdown",
     "metadata": {},
     "source": [
      "\n",
      "\n",
      "This example reuses the SVM classifier we have create before, and\n",
      "yields exactly what we expect from the previous result.\n",
      "\n",
      "The details of the cross-validation procedure are also heavily\n",
      "customizable. We have seen that a [Partitioner](http://pymvpa.org/generated/mvpa2.generators.partition.Partitioner.html#mvpa2-generators-partition-partitioner) is\n",
      "used to generate training and testing dataset for each cross-validation\n",
      "fold. So far we have only used [HalfPartitioner](http://pymvpa.org/generated/mvpa2.generators.partition.HalfPartitioner.html#mvpa2-generators-partition-halfpartitioner) to\n",
      "divide the dataset into odd and even runs (based on our custom sample\n",
      "attribute `runtype`). However, in general it is more common to perform so\n",
      "called leave-one-out cross-validation, where *one* independent part of a\n",
      "dataset is selected as testing dataset, while the other parts constitute the\n",
      "training dataset. This procedure is repeated till all parts have served as\n",
      "the testing dataset once. In case of our dataset we could consider each of\n",
      "the 12 runs as independent measurements (fMRI data doesn't allow us to\n",
      "consider temporally adjacent data to be considered independent).\n",
      "\n",
      "To run such an analysis, we first need to redo our dataset preprocessing,\n",
      "as, in the current one, we only have one sample per stimulus category for\n",
      "both odd and even runs. To get a dataset with one sample per stimulus\n",
      "category for each run, we need to modify the averaging step. Using what we\n",
      "have learned from the *last tutorial part* the\n",
      "following code snippet should be plausible:"
     ]
    },
    {
     "cell_type": "code",
     "collapsed": false,
     "input": [
      "datapath = os.path.join(tutorial_data_path, 'haxby2001')\n",
      "ds = load_tutorial_data(roi='vt')\n",
      "poly_detrend(ds, polyord=1, chunks_attr='chunks')\n",
      "zscore(ds, param_est=('targets', ['rest']))\n",
      "ds = ds[ds.sa.targets != 'rest']\n",
      "run_averager = mean_group_sample(['targets', 'chunks'])\n",
      "ds = ds.get_mapped(run_averager)\n",
      "ds.shape"
     ],
     "language": "python",
     "metadata": {},
     "outputs": [
      {
       "metadata": {},
       "output_type": "pyout",
       "prompt_number": 81,
       "text": [
        "(96, 577)"
       ]
      }
     ],
     "prompt_number": 81
    },
    {
     "cell_type": "markdown",
     "metadata": {},
     "source": [
      "\n",
      "\n",
      "Instead of two samples per category in the whole dataset, now we have one\n",
      "sample per category, per experiment run, hence 96 samples in the whole\n",
      "dataset. To set up a 12-fold leave-one-run-out cross-validation, we can\n",
      "make use of [NFoldPartitioner](http://pymvpa.org/generated/mvpa2.generators.partition.NFoldPartitioner.html#mvpa2-generators-partition-nfoldpartitioner). By default it is\n",
      "going to select samples from one `chunk` at a time:"
     ]
    },
    {
     "cell_type": "code",
     "collapsed": false,
     "input": [
      "cvte = CrossValidation(clf, NFoldPartitioner(),\n",
      "                       errorfx=lambda p, t: np.mean(p == t))\n",
      "cv_results = cvte(ds)\n",
      "np.mean(cv_results)"
     ],
     "language": "python",
     "metadata": {},
     "outputs": [
      {
       "metadata": {},
       "output_type": "pyout",
       "prompt_number": 82,
       "text": [
        "0.78125"
       ]
      }
     ],
     "prompt_number": 82
    },
    {
     "cell_type": "markdown",
     "metadata": {},
     "source": [
      "\n",
      "\n",
      "We get almost the same prediction accuracy (reusing the SVM classifier and\n",
      "our custom error function). Note that this time we performed the analysis on\n",
      "a lot more samples that were each was computed from just a few fMRI volumes\n",
      "(about nine each).\n",
      "\n",
      "So far we have just looked at the mean accuracy or error. Let's investigate\n",
      "the results of the cross-validation analysis a bit further."
     ]
    },
    {
     "cell_type": "code",
     "collapsed": false,
     "input": [
      "type(cv_results)"
     ],
     "language": "python",
     "metadata": {},
     "outputs": [
      {
       "metadata": {},
       "output_type": "pyout",
       "prompt_number": 83,
       "text": [
        "mvpa2.datasets.base.Dataset"
       ]
      }
     ],
     "prompt_number": 83
    },
    {
     "cell_type": "code",
     "collapsed": false,
     "input": [
      "print cv_results.samples"
     ],
     "language": "python",
     "metadata": {},
     "outputs": [
      {
       "output_type": "stream",
       "stream": "stdout",
       "text": [
        "[[ 0.75 ]\n",
        " [ 0.875]\n",
        " [ 1.   ]\n",
        " [ 0.75 ]\n",
        " [ 0.75 ]\n",
        " [ 0.875]\n",
        " [ 0.75 ]\n",
        " [ 0.875]\n",
        " [ 0.75 ]\n",
        " [ 0.375]\n",
        " [ 1.   ]\n",
        " [ 0.625]]\n"
       ]
      }
     ],
     "prompt_number": 84
    },
    {
     "cell_type": "markdown",
     "metadata": {},
     "source": [
      "\n",
      "\n",
      "The returned value is actually a [Dataset](http://pymvpa.org/generated/mvpa2.datasets.base.Dataset.html#mvpa2-datasets-base-dataset) with the\n",
      "results for all cross-validation folds. Since our error function computes\n",
      "only a single scalar value for each fold the dataset only contains a single\n",
      "feature (in this case the accuracy), and a sample per each fold."
     ]
    },
    {
     "cell_type": "heading",
     "level": 2,
     "metadata": {},
     "source": [
      "We Need To Take A Closer Look"
     ]
    },
    {
     "cell_type": "markdown",
     "metadata": {},
     "source": [
      "\n",
      "\n",
      "By now we have already done a few cross-validation analyses using two\n",
      "different classifiers and different pre-processing strategies. In all these\n",
      "cases we have just looked at the generalization performance or error.\n",
      "However, error rates hide a lot of interesting information that is very\n",
      "important for an interpretation of results. In our case we analyzed a\n",
      "dataset with eight different categories. An average misclassification rate\n",
      "doesn't tell us much about the contribution of each category to the\n",
      "prediction error. It could be that *half of the samples of each category*\n",
      "get misclassified, but the same average error might be due to *all samples\n",
      "from half of the categories* being completely misclassified, while\n",
      "prediction accuracy for samples from the remaining categories is perfect.\n",
      "These two results would have to be interpreted in totally different ways,\n",
      "despite the same average error rate.\n",
      "\n",
      "In psychological research this type of results is usually presented as a\n",
      "[contingency table](http://en.wikipedia.org/wiki/Contingency_table) or [cross tabulation](http://en.wikipedia.org/wiki/Cross_tabulation) of expected vs. empirical\n",
      "results. [Signal detection theory](http://en.wikipedia.org/wiki/Detection_theory) offers a whole range of techniques to\n",
      "characterize such results. From this angle a\n",
      "classification analysis is hardly any different from a psychological\n",
      "experiment where a human observer performs a detection task, hence the same\n",
      "analysis procedures can be applied here as well.\n",
      "\n",
      "PyMVPA provides convenient access to [confusion matrices <confusion](http://pymvpa.org/glossary.html#term-confusion-matrices-<confusion), i.e.  contingency tables of targets vs. actual predictions.  However,\n",
      "to prevent wasting CPU-time and memory they are not computed by default, but\n",
      "instead have to be enabled explicitly. Optional analysis results like this are\n",
      "available in a dedicated collection of [conditional attribute](http://pymvpa.org/glossary.html#term-conditional-attribute)s --\n",
      "analogous to `sa` and `fa` in datasets, it is named `ca`. Let's see how\n",
      "it works:"
     ]
    },
    {
     "cell_type": "code",
     "collapsed": false,
     "input": [
      "cvte = CrossValidation(clf, NFoldPartitioner(),\n",
      "                       errorfx=lambda p, t: np.mean(p == t),\n",
      "                       enable_ca=['stats'])\n",
      "cv_results = cvte(ds)"
     ],
     "language": "python",
     "metadata": {},
     "outputs": [],
     "prompt_number": 85
    },
    {
     "cell_type": "markdown",
     "metadata": {},
     "source": [
      "\n",
      "\n",
      "Via the `enable_ca` argument we triggered computing confusion tables for\n",
      "all cross-validation folds, but otherwise there is no change in the code.\n",
      "Afterwards the aggregated confusion for the whole cross-validation\n",
      "procedure is available in the `ca` collection. Let's take a look (note\n",
      "that in the printed manual the output is truncated due to page-width\n",
      "constraints -- please refer to the HTML-based version full the full matrix)."
     ]
    },
    {
     "cell_type": "code",
     "collapsed": false,
     "input": [
      "print cvte.ca.stats.as_string(description=True)"
     ],
     "language": "python",
     "metadata": {},
     "outputs": [
      {
       "output_type": "stream",
       "stream": "stdout",
       "text": [
        "----------.\n",
        "predictions\\targets     bottle         cat          chair          face         house        scissors    scrambledpix      shoe\n",
        "            `------  ------------  ------------  ------------  ------------  ------------  ------------  ------------  ------------ P'   N'   FP   FN   PPV  NPV  TPR  SPC  FDR  MCC  F1\n",
        "       bottle             6             0             3             0             0             5             0             1       15   75    9    6   0.4 0.92  0.5 0.88  0.6 0.34 0.44\n",
        "        cat               0             10            0             0             0             0             0             0       10   67    0    2    1  0.97 0.83   1    0  0.79 0.91\n",
        "       chair              0             0             7             0             0             0             0             0        7   73    0    5    1  0.93 0.58   1    0  0.66 0.74\n",
        "        face              0             2             0             12            0             0             0             0       14   63    2    0  0.86   1    1  0.97 0.14  0.8 0.92\n",
        "       house              0             0             0             0             12            0             0             0       12   63    0    0    1    1    1    1    0  0.87   1\n",
        "      scissors            2             0             1             0             0             6             0             0        9   75    3    6  0.67 0.92  0.5 0.96 0.33 0.48 0.57\n",
        "    scrambledpix          2             0             1             0             0             0             12            1       16   63    4    0  0.75   1    1  0.94 0.25 0.75 0.86\n",
        "        shoe              2             0             0             0             0             1             0             10      13   67    3    2  0.77 0.97 0.83 0.96 0.23 0.69  0.8\n",
        "Per target:          ------------  ------------  ------------  ------------  ------------  ------------  ------------  ------------\n",
        "         P                12            12            12            12            12            12            12            12\n",
        "         N                84            84            84            84            84            84            84            84\n",
        "         TP               6             10            7             12            12            6             12            10\n",
        "         TN               69            65            68            63            63            69            63            65\n",
        "Summary \\ Means:     ------------  ------------  ------------  ------------  ------------  ------------  ------------  ------------ 12 68.25 2.62 2.62 0.81 0.96 0.78 0.96 0.19 0.67 0.78\n",
        "       CHI^2            442.67       p=2e-58\n",
        "        ACC              0.78\n",
        "        ACC%            78.12\n",
        "     # of sets            12       ACC(i) = 0.87-0.015*i p=0.3 r=-0.33 r^2=0.11\n",
        "\n",
        "Statistics computed in 1-vs-rest fashion per each target.\n",
        "Abbreviations (for details see http://en.wikipedia.org/wiki/ROC_curve):\n",
        " TP : true positive (AKA hit)\n",
        " TN : true negative (AKA correct rejection)\n",
        " FP : false positive (AKA false alarm, Type I error)\n",
        " FN : false negative (AKA miss, Type II error)\n",
        " TPR: true positive rate (AKA hit rate, recall, sensitivity)\n",
        "      TPR = TP / P = TP / (TP + FN)\n",
        " FPR: false positive rate (AKA false alarm rate, fall-out)\n",
        "      FPR = FP / N = FP / (FP + TN)\n",
        " ACC: accuracy\n",
        "      ACC = (TP + TN) / (P + N)\n",
        " SPC: specificity\n",
        "      SPC = TN / (FP + TN) = 1 - FPR\n",
        " PPV: positive predictive value (AKA precision)\n",
        "      PPV = TP / (TP + FP)\n",
        " NPV: negative predictive value\n",
        "      NPV = TN / (TN + FN)\n",
        " FDR: false discovery rate\n",
        "      FDR = FP / (FP + TP)\n",
        " MCC: Matthews Correlation Coefficient\n",
        "      MCC = (TP*TN - FP*FN)/sqrt(P N P' N')\n",
        " F1 : F1 score\n",
        "      F1 = 2TP / (P + P') = 2TP / (2TP + FP + FN)\n",
        " AUC: Area under (AUC) curve\n",
        " CHI^2: Chi-square of confusion matrix\n",
        " LOE(ACC): Linear Order Effect in ACC across sets\n",
        " # of sets: number of target/prediction sets which were provided\n",
        "\n"
       ]
      }
     ],
     "prompt_number": 86
    },
    {
     "cell_type": "markdown",
     "metadata": {},
     "source": [
      "\n",
      "\n",
      "This output is a comprehensive summary of the performed analysis. We can\n",
      "see that the confusion matrix has a strong diagonal, and confusion happens\n",
      "mostly among small objects. In addition to the plain contingency table\n",
      "there are also a number of useful summary statistics readily available --\n",
      "including average accuracy.\n",
      "\n",
      "Especially for multi-class datasets the matrix quickly becomes\n",
      "incomprehensible. For these cases the confusion matrix can also be plotted\n",
      "via its [plot()](http://pymvpa.org/generated/mvpa2.clfs.transerror.ConfusionMatrix.plot.html#mvpa2-clfs-transerror-confusionmatrix-plot) method. If the\n",
      "confusions shall be used as input for further processing they can also be\n",
      "accessed in pure matrix format:"
     ]
    },
    {
     "cell_type": "code",
     "collapsed": false,
     "input": [
      "cvte.ca.stats.plot(labels=['face','cat','shoe','bottle','scissors','chair','house','scrambledpix'], numbers=True, numbers_alpha=1.5)"
     ],
     "language": "python",
     "metadata": {},
     "outputs": [
      {
       "metadata": {},
       "output_type": "pyout",
       "prompt_number": 110,
       "text": [
        "(<matplotlib.figure.Figure at 0x7fbfa703a350>,\n",
        " <matplotlib.image.AxesImage at 0x7fbfa6715610>,\n",
        " <matplotlib.colorbar.Colorbar instance at 0x7fbfa65dd200>)"
       ]
      },
      {
       "metadata": {},
       "output_type": "display_data",
       "png": "[encoded data removed]",
       "text": [
        "<matplotlib.figure.Figure at 0x7fbfa703a350>"
       ]
      }
     ],
     "prompt_number": 110
    },
    {
     "cell_type": "code",
     "collapsed": false,
     "input": [
      "cvte.ca.stats.plot?"
     ],
     "language": "python",
     "metadata": {},
     "outputs": [],
     "prompt_number": 101
    },
    {
     "cell_type": "code",
     "collapsed": false,
     "input": [
      "cvte.ca.stats.matrix"
     ],
     "language": "python",
     "metadata": {},
     "outputs": [
      {
       "metadata": {},
       "output_type": "pyout",
       "prompt_number": 100,
       "text": [
        "array([[ 6,  0,  3,  0,  0,  5,  0,  1],\n",
        "       [ 0, 10,  0,  0,  0,  0,  0,  0],\n",
        "       [ 0,  0,  7,  0,  0,  0,  0,  0],\n",
        "       [ 0,  2,  0, 12,  0,  0,  0,  0],\n",
        "       [ 0,  0,  0,  0, 12,  0,  0,  0],\n",
        "       [ 2,  0,  1,  0,  0,  6,  0,  0],\n",
        "       [ 2,  0,  1,  0,  0,  0, 12,  1],\n",
        "       [ 2,  0,  0,  0,  0,  1,  0, 10]])"
       ]
      }
     ],
     "prompt_number": 100
    },
    {
     "cell_type": "markdown",
     "metadata": {},
     "source": [
      "\n",
      "\n",
      "The classifier confusions are just an example of the general mechanism of\n",
      "conditional attribute that is supported by many objects in PyMVPA."
     ]
    }
   ],
   "metadata": {}
  }
 ]
}